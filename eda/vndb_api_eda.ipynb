{
 "cells": [
  {
   "cell_type": "code",
   "execution_count": null,
   "metadata": {},
   "outputs": [],
   "source": [
    "import requests"
   ]
  },
  {
   "cell_type": "code",
   "execution_count": null,
   "metadata": {},
   "outputs": [],
   "source": [
    "r = requests.api.get('http://api.vndb.org')"
   ]
  },
  {
   "cell_type": "code",
   "execution_count": null,
   "metadata": {},
   "outputs": [],
   "source": [
    "requests.api.get()"
   ]
  },
  {
   "cell_type": "code",
   "execution_count": null,
   "metadata": {},
   "outputs": [],
   "source": [
    "https://github.com/theappleman/pyvndb"
   ]
  },
  {
   "cell_type": "code",
   "execution_count": 46,
   "metadata": {},
   "outputs": [],
   "source": [
    "import json\n",
    "import socket"
   ]
  },
  {
   "cell_type": "code",
   "execution_count": null,
   "metadata": {},
   "outputs": [],
   "source": []
  },
  {
   "cell_type": "code",
   "execution_count": 47,
   "metadata": {},
   "outputs": [],
   "source": [
    "endpoint = (\"api.vndb.org\", 19534)\n",
    "sock = socket.socket()\n",
    "sock.connect(endpoint)"
   ]
  },
  {
   "cell_type": "code",
   "execution_count": 48,
   "metadata": {},
   "outputs": [],
   "source": [
    "q = {\"protocol\":1,\"client\":\"meme test\",\"clientver\":0.1}\n",
    "qee = json.dumps(q)\n",
    "cmd = bytes(\"{} {}\\x04\".format('login', qee), \"utf-8\")\n",
    "sock.sendall(cmd)"
   ]
  },
  {
   "cell_type": "code",
   "execution_count": 5,
   "metadata": {},
   "outputs": [],
   "source": [
    "def make_command(command, keys):\n",
    "    q = {\"protocol\":1,\"client\":\"meme test\",\"clientver\":0.1}\n",
    "    qee = json.dumps(q)\n",
    "    return(bytes(\"{} {}\\x04\".format(command, qee), \"utf-8\"))\n",
    "def send_command(made_command):\n",
    "    sock.sendall(made_command)\n",
    "    rtn = sock.recv(1024)\n",
    "    return rtn"
   ]
  },
  {
   "cell_type": "code",
   "execution_count": 49,
   "metadata": {},
   "outputs": [
    {
     "data": {
      "text/plain": [
       "b'login {\"protocol\": 1, \"client\": \"meme test\", \"clientver\": 0.1}\\x04'"
      ]
     },
     "execution_count": 49,
     "metadata": {},
     "output_type": "execute_result"
    }
   ],
   "source": [
    "cmd"
   ]
  },
  {
   "cell_type": "code",
   "execution_count": 11,
   "metadata": {},
   "outputs": [
    {
     "ename": "OSError",
     "evalue": "[Errno 9] Bad file descriptor",
     "output_type": "error",
     "traceback": [
      "\u001b[0;31m---------------------------------------------------------------------------\u001b[0m",
      "\u001b[0;31mOSError\u001b[0m                                   Traceback (most recent call last)",
      "\u001b[0;32m<ipython-input-11-f5b44375762a>\u001b[0m in \u001b[0;36m<module>\u001b[0;34m()\u001b[0m\n\u001b[0;32m----> 1\u001b[0;31m \u001b[0msock\u001b[0m\u001b[0;34m.\u001b[0m\u001b[0msendall\u001b[0m\u001b[0;34m(\u001b[0m\u001b[0mcmd\u001b[0m\u001b[0;34m)\u001b[0m\u001b[0;34m\u001b[0m\u001b[0m\n\u001b[0m",
      "\u001b[0;31mOSError\u001b[0m: [Errno 9] Bad file descriptor"
     ]
    }
   ],
   "source": [
    "sock.sendall(cmd)"
   ]
  },
  {
   "cell_type": "code",
   "execution_count": 50,
   "metadata": {},
   "outputs": [],
   "source": [
    "rtn = sock.recv(1024)"
   ]
  },
  {
   "cell_type": "code",
   "execution_count": 51,
   "metadata": {},
   "outputs": [
    {
     "data": {
      "text/plain": [
       "b'ok\\x04'"
      ]
     },
     "execution_count": 51,
     "metadata": {},
     "output_type": "execute_result"
    }
   ],
   "source": [
    "rtn"
   ]
  },
  {
   "cell_type": "code",
   "execution_count": 31,
   "metadata": {},
   "outputs": [
    {
     "data": {
      "text/plain": [
       "True"
      ]
     },
     "execution_count": 31,
     "metadata": {},
     "output_type": "execute_result"
    }
   ],
   "source": [
    "rtn == b'ok\\x04'"
   ]
  },
  {
   "cell_type": "code",
   "execution_count": null,
   "metadata": {},
   "outputs": [],
   "source": [
    "#make_command('get votelist basic (uid=0)',)"
   ]
  },
  {
   "cell_type": "code",
   "execution_count": 7,
   "metadata": {},
   "outputs": [],
   "source": [
    "uid = 2"
   ]
  },
  {
   "cell_type": "code",
   "execution_count": 22,
   "metadata": {},
   "outputs": [
    {
     "data": {
      "text/plain": [
       "'get votelist basic (uid=46808)\\x04'"
      ]
     },
     "execution_count": 22,
     "metadata": {},
     "output_type": "execute_result"
    }
   ],
   "source": [
    "cmd = 'get votelist basic (uid={})\\x04'.format(uid)"
   ]
  },
  {
   "cell_type": "code",
   "execution_count": 29,
   "metadata": {},
   "outputs": [],
   "source": [
    "cmd = bytes('get votelist basic (uid={})\\x04'.format(uid),\"utf-8\")"
   ]
  },
  {
   "cell_type": "code",
   "execution_count": 30,
   "metadata": {},
   "outputs": [
    {
     "data": {
      "text/plain": [
       "b'get votelist basic (uid=2)\\x04'"
      ]
     },
     "execution_count": 30,
     "metadata": {},
     "output_type": "execute_result"
    }
   ],
   "source": [
    "cmd"
   ]
  },
  {
   "cell_type": "code",
   "execution_count": 31,
   "metadata": {},
   "outputs": [],
   "source": [
    "sock.sendall(cmd)"
   ]
  },
  {
   "cell_type": "code",
   "execution_count": 8,
   "metadata": {},
   "outputs": [],
   "source": [
    "sock.sendall(bytes('get votelist basic (uid={})\\x04'.format(uid),\"utf-8\"))"
   ]
  },
  {
   "cell_type": "code",
   "execution_count": 35,
   "metadata": {},
   "outputs": [
    {
     "ename": "OSError",
     "evalue": "[Errno 9] Bad file descriptor",
     "output_type": "error",
     "traceback": [
      "\u001b[0;31m---------------------------------------------------------------------------\u001b[0m",
      "\u001b[0;31mOSError\u001b[0m                                   Traceback (most recent call last)",
      "\u001b[0;32m<ipython-input-35-d3def804cd3e>\u001b[0m in \u001b[0;36m<module>\u001b[0;34m()\u001b[0m\n\u001b[0;32m----> 1\u001b[0;31m \u001b[0mrtn\u001b[0m \u001b[0;34m=\u001b[0m \u001b[0msock\u001b[0m\u001b[0;34m.\u001b[0m\u001b[0mrecv\u001b[0m\u001b[0;34m(\u001b[0m\u001b[0;36m1024\u001b[0m\u001b[0;34m)\u001b[0m\u001b[0;34m\u001b[0m\u001b[0m\n\u001b[0m\u001b[1;32m      2\u001b[0m \u001b[0mrtn\u001b[0m\u001b[0;34m\u001b[0m\u001b[0m\n",
      "\u001b[0;31mOSError\u001b[0m: [Errno 9] Bad file descriptor"
     ]
    }
   ],
   "source": [
    "rtn = sock.recv(1024)\n",
    "rtn"
   ]
  },
  {
   "cell_type": "code",
   "execution_count": 17,
   "metadata": {},
   "outputs": [],
   "source": [
    "# create wrapper and edge cases if user entry = 0 or NaN or too big or deleted user"
   ]
  },
  {
   "cell_type": "code",
   "execution_count": 34,
   "metadata": {},
   "outputs": [],
   "source": [
    "sock.close()"
   ]
  },
  {
   "cell_type": "code",
   "execution_count": 36,
   "metadata": {},
   "outputs": [
    {
     "data": {
      "text/plain": [
       "b'ok\\x04'"
      ]
     },
     "execution_count": 36,
     "metadata": {},
     "output_type": "execute_result"
    }
   ],
   "source": [
    "rtn"
   ]
  },
  {
   "cell_type": "code",
   "execution_count": 12,
   "metadata": {},
   "outputs": [
    {
     "data": {
      "text/plain": [
       "'results {\"more\":true,\"num\":10,\"items\":[{\"vote\":30,\"vn\":1,\"added\":1190461350,\"uid\":2},{\"uid\":2,\"added\":1190461154,\"vote\":60,\"vn\":2},{\"uid\":2,\"added\":1203167759,\"vn\":3,\"vote\":90},{\"vn\":5,\"vote\":60,\"added\":1356042362,\"uid\":2},{\"vote\":90,\"vn\":7,\"added\":1190463510,\"uid\":2},{\"uid\":2,\"added\":1190458380,\"vote\":70,\"vn\":10},{\"added\":1229269778,\"vote\":70,\"vn\":11,\"uid\":2},{\"uid\":2,\"added\":1190463502,\"vn\":17,\"vote\":100},{\"uid\":2,\"vn\":22,\"vote\":40,\"added\":1345382757},{\"vn\":29,\"vote\":60,\"added\":1204580531,\"uid\":2}]}\\x04'"
      ]
     },
     "execution_count": 12,
     "metadata": {},
     "output_type": "execute_result"
    }
   ],
   "source": [
    "rtn.decode('utf-8')"
   ]
  },
  {
   "cell_type": "code",
   "execution_count": 13,
   "metadata": {},
   "outputs": [],
   "source": [
    "string = rtn.decode('utf-8')[8:-1]"
   ]
  },
  {
   "cell_type": "code",
   "execution_count": 14,
   "metadata": {},
   "outputs": [],
   "source": [
    "jsons = json.loads(string)"
   ]
  },
  {
   "cell_type": "code",
   "execution_count": 15,
   "metadata": {},
   "outputs": [
    {
     "data": {
      "text/plain": [
       "{'items': [{'added': 1190461350, 'uid': 2, 'vn': 1, 'vote': 30},\n",
       "  {'added': 1190461154, 'uid': 2, 'vn': 2, 'vote': 60},\n",
       "  {'added': 1203167759, 'uid': 2, 'vn': 3, 'vote': 90},\n",
       "  {'added': 1356042362, 'uid': 2, 'vn': 5, 'vote': 60},\n",
       "  {'added': 1190463510, 'uid': 2, 'vn': 7, 'vote': 90},\n",
       "  {'added': 1190458380, 'uid': 2, 'vn': 10, 'vote': 70},\n",
       "  {'added': 1229269778, 'uid': 2, 'vn': 11, 'vote': 70},\n",
       "  {'added': 1190463502, 'uid': 2, 'vn': 17, 'vote': 100},\n",
       "  {'added': 1345382757, 'uid': 2, 'vn': 22, 'vote': 40},\n",
       "  {'added': 1204580531, 'uid': 2, 'vn': 29, 'vote': 60}],\n",
       " 'more': True,\n",
       " 'num': 10}"
      ]
     },
     "execution_count": 15,
     "metadata": {},
     "output_type": "execute_result"
    }
   ],
   "source": [
    "jsons"
   ]
  },
  {
   "cell_type": "code",
   "execution_count": 16,
   "metadata": {},
   "outputs": [
    {
     "data": {
      "text/plain": [
       "[30, 1, 1190461350, 2]"
      ]
     },
     "execution_count": 16,
     "metadata": {},
     "output_type": "execute_result"
    }
   ],
   "source": [
    "[x[1] for x in jsons['items'][0].items()]"
   ]
  },
  {
   "cell_type": "code",
   "execution_count": 14,
   "metadata": {},
   "outputs": [
    {
     "data": {
      "text/plain": [
       "[[46808, 5, 90],\n",
       " [46808, 11, 90],\n",
       " [46808, 57, 90],\n",
       " [46808, 66, 80],\n",
       " [46808, 211, 100],\n",
       " [46808, 496, 60],\n",
       " [46808, 751, 90],\n",
       " [46808, 917, 70],\n",
       " [46808, 945, 70],\n",
       " [46808, 1474, 80]]"
      ]
     },
     "execution_count": 14,
     "metadata": {},
     "output_type": "execute_result"
    }
   ],
   "source": [
    "[[y[1] for y in sorted(x.items(),key=lambda x: x[0])][1:] for x in jsons['items']]"
   ]
  },
  {
   "cell_type": "code",
   "execution_count": 143,
   "metadata": {},
   "outputs": [
    {
     "data": {
      "text/plain": [
       "{'added': 1370632972, 'uid': 46808, 'vn': 5, 'vote': 90}"
      ]
     },
     "execution_count": 143,
     "metadata": {},
     "output_type": "execute_result"
    }
   ],
   "source": [
    "x"
   ]
  },
  {
   "cell_type": "code",
   "execution_count": 28,
   "metadata": {},
   "outputs": [
    {
     "data": {
      "text/plain": [
       "[(46808, 5, 90),\n",
       " (46808, 11, 90),\n",
       " (46808, 57, 90),\n",
       " (46808, 66, 80),\n",
       " (46808, 211, 100),\n",
       " (46808, 496, 60),\n",
       " (46808, 751, 90),\n",
       " (46808, 917, 70),\n",
       " (46808, 945, 70),\n",
       " (46808, 1474, 80)]"
      ]
     },
     "execution_count": 28,
     "metadata": {},
     "output_type": "execute_result"
    }
   ],
   "source": [
    "[tuple([elements[1] for elements in sorted(row.items(),key=lambda row: row[0])][1:]) for row in jsons['items']]\n",
    "#really convoluted list comprehension to pull. "
   ]
  },
  {
   "cell_type": "code",
   "execution_count": null,
   "metadata": {},
   "outputs": [],
   "source": []
  },
  {
   "cell_type": "code",
   "execution_count": null,
   "metadata": {},
   "outputs": [],
   "source": []
  },
  {
   "cell_type": "code",
   "execution_count": 29,
   "metadata": {},
   "outputs": [],
   "source": [
    "json_file = json.dumps({\"results\":10})"
   ]
  },
  {
   "cell_type": "code",
   "execution_count": 30,
   "metadata": {},
   "outputs": [],
   "source": [
    "sock.sendall(bytes('get votelist basic (uid=0)'+json_file+'\\x04',\"utf-8\"))"
   ]
  },
  {
   "cell_type": "code",
   "execution_count": 31,
   "metadata": {},
   "outputs": [
    {
     "data": {
      "text/plain": [
       "b'results {\"items\":[{\"vote\":90,\"uid\":46808,\"added\":1370632972,\"vn\":5},{\"vn\":11,\"added\":1370632929,\"vote\":90,\"uid\":46808},{\"added\":1370632986,\"vn\":57,\"uid\":46808,\"vote\":90},{\"added\":1370632909,\"vn\":66,\"vote\":80,\"uid\":46808},{\"uid\":46808,\"vote\":100,\"added\":1370632895,\"vn\":211},{\"vn\":496,\"added\":1370667147,\"vote\":60,\"uid\":46808},{\"uid\":46808,\"vote\":90,\"added\":1373219973,\"vn\":751},{\"added\":1370643614,\"vn\":917,\"uid\":46808,\"vote\":70},{\"vote\":70,\"uid\":46808,\"vn\":945,\"added\":1370633587},{\"added\":1370632949,\"vn\":1474,\"uid\":46808,\"vote\":80}],\"num\":10,\"more\":true}\\x04'"
      ]
     },
     "execution_count": 31,
     "metadata": {},
     "output_type": "execute_result"
    }
   ],
   "source": [
    "rtn = sock.recv(1024)\n",
    "rtn"
   ]
  },
  {
   "cell_type": "code",
   "execution_count": 60,
   "metadata": {},
   "outputs": [
    {
     "data": {
      "text/plain": [
       "b'results {\"num\":10,\"items\":[{\"vote\":30,\"vn\":11,\"added\":1272971133,\"uid\":14},{\"uid\":14,\"vn\":12,\"vote\":40,\"added\":1272971983},{\"added\":1273026394,\"vote\":20,\"vn\":13,\"uid\":14},{\"vn\":14,\"vote\":90,\"added\":1205044260,\"uid\":14},{\"added\":1205044032,\"vn\":15,\"vote\":60,\"uid\":14},{\"uid\":14,\"added\":1272971140,\"vn\":17,\"vote\":20},{\"uid\":14,\"vn\":18,\"vote\":20,\"added\":1273028588},{\"uid\":14,\"added\":1273027777,\"vn\":19,\"vote\":30},{\"added\":1272972287,\"vn\":20,\"vote\":40,\"uid\":14},{\"uid\":14,\"vote\":20,\"vn\":21,\"added\":1273026627}],\"more\":true}\\x04'"
      ]
     },
     "execution_count": 60,
     "metadata": {},
     "output_type": "execute_result"
    }
   ],
   "source": [
    "#while rtn['more']:\n",
    "json_file = json.dumps({\"results\":10,\"page\":2})\n",
    "sock.sendall(bytes('get votelist basic (uid=14)'+json_file+'\\x04',\"utf-8\"))\n",
    "rtn = sock.recv(2048)\n",
    "rtn"
   ]
  },
  {
   "cell_type": "code",
   "execution_count": 59,
   "metadata": {},
   "outputs": [
    {
     "data": {
      "text/plain": [
       "b'results {\"items\":[{\"added\":1272971133,\"vote\":30,\"vn\":11,\"uid\":14},{\"uid\":14,\"added\":1272971983,\"vn\":12,\"vote\":40},{\"uid\":14,\"vn\":13,\"vote\":20,\"added\":1273026394},{\"vn\":14,\"vote\":90,\"added\":1205044260,\"uid\":14},{\"uid\":14,\"vn\":15,\"vote\":60,\"added\":1205044032},{\"added\":1272971140,\"vote\":20,\"vn\":17,\"uid\":14},{\"uid\":14,\"vn\":18,\"vote\":20,\"added\":1273028588},{\"added\":1273027777,\"vn\":19,\"vote\":30,\"uid\":14},{\"uid\":14,\"added\":1272972287,\"vote\":40,\"vn\":20},{\"uid\":14,\"added\":1273026627,\"vn\":21,\"vote\":20}],\"num\":10,\"more\":true}\\x04'"
      ]
     },
     "execution_count": 59,
     "metadata": {},
     "output_type": "execute_result"
    }
   ],
   "source": [
    "rtn"
   ]
  },
  {
   "cell_type": "code",
   "execution_count": 1,
   "metadata": {},
   "outputs": [],
   "source": [
    "#make a wrapper function to do all this\n",
    "#filter for new vns and DROP THEM \n",
    "#edge cases (user unrelated values, no rating shitters)\n",
    "#filter end for release (H and eng), give top 3 at the end"
   ]
  },
  {
   "cell_type": "code",
   "execution_count": 2,
   "metadata": {},
   "outputs": [],
   "source": [
    "#add and fit to new model\n",
    "#create anti_test set"
   ]
  },
  {
   "cell_type": "code",
   "execution_count": 44,
   "metadata": {},
   "outputs": [
    {
     "ename": "OSError",
     "evalue": "[Errno 9] Bad file descriptor",
     "output_type": "error",
     "traceback": [
      "\u001b[0;31m---------------------------------------------------------------------------\u001b[0m",
      "\u001b[0;31mOSError\u001b[0m                                   Traceback (most recent call last)",
      "\u001b[0;32m<ipython-input-44-ad6d433b5a4b>\u001b[0m in \u001b[0;36m<module>\u001b[0;34m()\u001b[0m\n\u001b[0;32m----> 1\u001b[0;31m \u001b[0msock\u001b[0m\u001b[0;34m.\u001b[0m\u001b[0mlisten\u001b[0m\u001b[0;34m(\u001b[0m\u001b[0;34m)\u001b[0m\u001b[0;34m\u001b[0m\u001b[0m\n\u001b[0m",
      "\u001b[0;31mOSError\u001b[0m: [Errno 9] Bad file descriptor"
     ]
    }
   ],
   "source": [
    "sock."
   ]
  },
  {
   "cell_type": "code",
   "execution_count": null,
   "metadata": {},
   "outputs": [],
   "source": [
    "x"
   ]
  }
 ],
 "metadata": {
  "kernelspec": {
   "display_name": "Python 3",
   "language": "python",
   "name": "python3"
  },
  "language_info": {
   "codemirror_mode": {
    "name": "ipython",
    "version": 3
   },
   "file_extension": ".py",
   "mimetype": "text/x-python",
   "name": "python",
   "nbconvert_exporter": "python",
   "pygments_lexer": "ipython3",
   "version": "3.6.4"
  }
 },
 "nbformat": 4,
 "nbformat_minor": 2
}
